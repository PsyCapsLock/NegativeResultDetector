{
 "cells": [
  {
   "cell_type": "code",
   "execution_count": 3,
   "metadata": {},
   "outputs": [
    {
     "name": "stderr",
     "output_type": "stream",
     "text": [
      "Found cached dataset csv (C:/Users/louis/.cache/huggingface/datasets/csv/default-a5f63a8d14591b4a/0.0.0/eea64c71ca8b46dd3f537ed218fc9bf495d5707789152eb2764f5c78fa66d59d)\n"
     ]
    },
    {
     "data": {
      "application/vnd.jupyter.widget-view+json": {
       "model_id": "9986384a7d014273ba99da6cfdb32ccd",
       "version_major": 2,
       "version_minor": 0
      },
      "text/plain": [
       "  0%|          | 0/1 [00:00<?, ?it/s]"
      ]
     },
     "metadata": {},
     "output_type": "display_data"
    },
    {
     "name": "stdout",
     "output_type": "stream",
     "text": [
      "Downloading and preparing dataset csv/default to C:/Users/louis/.cache/huggingface/datasets/csv/default-9fdf96831926ed4b/0.0.0/eea64c71ca8b46dd3f537ed218fc9bf495d5707789152eb2764f5c78fa66d59d...\n"
     ]
    },
    {
     "data": {
      "application/vnd.jupyter.widget-view+json": {
       "model_id": "64435d3d42424eab961335a26e8ece5b",
       "version_major": 2,
       "version_minor": 0
      },
      "text/plain": [
       "Downloading data files:   0%|          | 0/1 [00:00<?, ?it/s]"
      ]
     },
     "metadata": {},
     "output_type": "display_data"
    },
    {
     "data": {
      "application/vnd.jupyter.widget-view+json": {
       "model_id": "8446617d9141400eb66299ef1c8db290",
       "version_major": 2,
       "version_minor": 0
      },
      "text/plain": [
       "Extracting data files:   0%|          | 0/1 [00:00<?, ?it/s]"
      ]
     },
     "metadata": {},
     "output_type": "display_data"
    },
    {
     "data": {
      "application/vnd.jupyter.widget-view+json": {
       "model_id": "cde8ba94d70846f3b66c73494827e49f",
       "version_major": 2,
       "version_minor": 0
      },
      "text/plain": [
       "Generating inference split: 0 examples [00:00, ? examples/s]"
      ]
     },
     "metadata": {},
     "output_type": "display_data"
    },
    {
     "name": "stdout",
     "output_type": "stream",
     "text": [
      "Dataset csv downloaded and prepared to C:/Users/louis/.cache/huggingface/datasets/csv/default-9fdf96831926ed4b/0.0.0/eea64c71ca8b46dd3f537ed218fc9bf495d5707789152eb2764f5c78fa66d59d. Subsequent calls will reuse this data.\n"
     ]
    },
    {
     "data": {
      "application/vnd.jupyter.widget-view+json": {
       "model_id": "cd000ea0066643baabdcb74ded80ea7d",
       "version_major": 2,
       "version_minor": 0
      },
      "text/plain": [
       "  0%|          | 0/1 [00:00<?, ?it/s]"
      ]
     },
     "metadata": {},
     "output_type": "display_data"
    },
    {
     "data": {
      "application/vnd.jupyter.widget-view+json": {
       "model_id": "38cfca1fe3da45b88e583322f1814767",
       "version_major": 2,
       "version_minor": 0
      },
      "text/plain": [
       "Map:   0%|          | 0/3 [00:00<?, ? examples/s]"
      ]
     },
     "metadata": {},
     "output_type": "display_data"
    },
    {
     "name": "stderr",
     "output_type": "stream",
     "text": [
      "You're using a BertTokenizerFast tokenizer. Please note that with a fast tokenizer, using the `__call__` method is faster than using a method to encode the text followed by a call to the `pad` method to get a padded encoding.\n"
     ]
    },
    {
     "data": {
      "application/vnd.jupyter.widget-view+json": {
       "model_id": "10dfe35fa58041a8b41dd37cfa1fe3ec",
       "version_major": 2,
       "version_minor": 0
      },
      "text/plain": [
       "  0%|          | 0/1 [00:00<?, ?it/s]"
      ]
     },
     "metadata": {},
     "output_type": "display_data"
    },
    {
     "name": "stdout",
     "output_type": "stream",
     "text": [
      "[1 0 1]\n"
     ]
    }
   ],
   "source": [
    "# NegativeResultDetector\n",
    "\n",
    "## SciBERT text classification model for positive and negative results prediction in scientific abstracts\n",
    "## of clinical psychology and psychotherapy.\n",
    "\n",
    "# 1. Load Data\n",
    "## You can load your own data or utilize our example datasets. \n",
    "## Your data should be a single column 'csv' file with a column containing scientific abstracts.\n",
    "## Make sure your text column is named 'text', otherwise replace 'text' within the preprocess function \n",
    "## with the name of your text column.  \n",
    "\n",
    "## We present two options for loading your data:\n",
    "from datasets import load_dataset\n",
    "\n",
    "## Option 1: Using Github CSV File\n",
    "## Insert Github 'raw' url for inference dataset \n",
    "example_url =    'https://github.com/schiekiera/NegativeResultDetector/blob/main/Data/Example_Data/example_df.csv?raw=true'\n",
    "dataset = load_dataset('csv', data_files={'inference': example_url})\n",
    "\n",
    "## Option 2: Using Local CSV File\n",
    "dataset = load_dataset('csv', data_files={'inference': \"example_data/example_df.csv\"})\n",
    "\n",
    "\n",
    "# 2. Preprocessing\n",
    "## Load tokenizer in uncased settings with scivocab\n",
    "from transformers import AutoTokenizer\n",
    "tokenizer = AutoTokenizer.from_pretrained('allenai/scibert_scivocab_uncased')\n",
    "\n",
    "## preprocess function\n",
    "## Make sure your text column is named 'text'. Otherwise replace 'text' with the name of your text column.\n",
    "def preprocess_function(examples):\n",
    "    return tokenizer(examples[\"text\"],\n",
    "                     truncation=True,\n",
    "                     max_length=512,\n",
    "                     padding='max_length'\n",
    "                     )\n",
    "\n",
    "## map preprocess_function to tokenized_data\n",
    "tokenized_data = dataset.map(preprocess_function, batched=True)\n",
    "\n",
    "# 3. Load Model\n",
    "from transformers import Trainer, AutoModelForSequenceClassification\n",
    "NegativeResultDetector = AutoModelForSequenceClassification.from_pretrained(\"ClinicalMetaScience/NegativeResultDetector\")\n",
    "\n",
    "## Initialize the trainer with the model and tokenizer\n",
    "trainer = Trainer(\n",
    "    model=NegativeResultDetector,\n",
    "    tokenizer=tokenizer,\n",
    "  )\n",
    "\n",
    "# 4. Prediction\n",
    "## Apply NegativeResultDetector for inference\n",
    "predict_test=trainer.predict(tokenized_data[\"inference\"])\n",
    "\n",
    "## Get the predicted class\n",
    "import numpy as np\n",
    "predict_test_classes=np.argmax(predict_test.predictions, axis=1)\n",
    "\n",
    "# 5. Interpretation\n",
    "## Print the predicted class\n",
    "print(predict_test_classes)\n",
    "\n",
    "## 1: Positive Results Only --> All results in the abstract are positive\n",
    "## 0: Mixed and Negative Results --> At least one negative result in the abstract"
   ]
  }
 ],
 "metadata": {
  "kernelspec": {
   "display_name": "Python 3",
   "language": "python",
   "name": "python3"
  },
  "language_info": {
   "codemirror_mode": {
    "name": "ipython",
    "version": 3
   },
   "file_extension": ".py",
   "mimetype": "text/x-python",
   "name": "python",
   "nbconvert_exporter": "python",
   "pygments_lexer": "ipython3",
   "version": "3.11.3"
  },
  "orig_nbformat": 4
 },
 "nbformat": 4,
 "nbformat_minor": 2
}
