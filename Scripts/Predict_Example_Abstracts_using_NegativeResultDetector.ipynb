{
 "cells": [
  {
   "cell_type": "code",
   "execution_count": 8,
   "metadata": {},
   "outputs": [
    {
     "name": "stderr",
     "output_type": "stream",
     "text": [
      "Found cached dataset csv (C:/Users/louis/.cache/huggingface/datasets/csv/default-29aa7d1bf136af2c/0.0.0/eea64c71ca8b46dd3f537ed218fc9bf495d5707789152eb2764f5c78fa66d59d)\n"
     ]
    },
    {
     "data": {
      "application/vnd.jupyter.widget-view+json": {
       "model_id": "e5d9c9d2f3e64e1ca52bc07522688a4d",
       "version_major": 2,
       "version_minor": 0
      },
      "text/plain": [
       "  0%|          | 0/1 [00:00<?, ?it/s]"
      ]
     },
     "metadata": {},
     "output_type": "display_data"
    },
    {
     "name": "stderr",
     "output_type": "stream",
     "text": [
      "Found cached dataset csv (C:/Users/louis/.cache/huggingface/datasets/csv/default-44ecdf08aa3947ad/0.0.0/eea64c71ca8b46dd3f537ed218fc9bf495d5707789152eb2764f5c78fa66d59d)\n"
     ]
    },
    {
     "data": {
      "application/vnd.jupyter.widget-view+json": {
       "model_id": "c44535ed044e476ba2627016529dc2f3",
       "version_major": 2,
       "version_minor": 0
      },
      "text/plain": [
       "  0%|          | 0/1 [00:00<?, ?it/s]"
      ]
     },
     "metadata": {},
     "output_type": "display_data"
    },
    {
     "name": "stderr",
     "output_type": "stream",
     "text": [
      "Loading cached processed dataset at C:\\Users\\louis\\.cache\\huggingface\\datasets\\csv\\default-44ecdf08aa3947ad\\0.0.0\\eea64c71ca8b46dd3f537ed218fc9bf495d5707789152eb2764f5c78fa66d59d\\cache-bcfacd016089f7de.arrow\n",
      "You're using a BertTokenizerFast tokenizer. Please note that with a fast tokenizer, using the `__call__` method is faster than using a method to encode the text followed by a call to the `pad` method to get a padded encoding.\n"
     ]
    },
    {
     "data": {
      "application/vnd.jupyter.widget-view+json": {
       "model_id": "659f8207269d40b1b09f56e45825acfa",
       "version_major": 2,
       "version_minor": 0
      },
      "text/plain": [
       "  0%|          | 0/1 [00:00<?, ?it/s]"
      ]
     },
     "metadata": {},
     "output_type": "display_data"
    }
   ],
   "source": [
    "# NegativeResultDetector\n",
    "\n",
    "## SciBERT text classification model for positive and negative results prediction in scientific abstracts of clinical psychology and psychotherapy.\n",
    "\n",
    "\n",
    "# 1. Load Data\n",
    "## You can load your own data or utilize our example datasets. \n",
    "## Your data should be a single column 'csv' file with a column containing scientific abstracts.\n",
    "## Make sure your text column is named 'text', otherwise replace 'text' within the preprocess function with the name of your text column.  \n",
    "\n",
    "## We present two options for loading your data:\n",
    "from datasets import load_dataset\n",
    "\n",
    "## Option 1: Using Github CSV File\n",
    "## Insert Github 'raw' url for inference dataset \n",
    "example_url =    'https://github.com/PsyCapsLock/PubBiasDetect/blob/main/Data/Example_Data/example_df.csv?raw=true'\n",
    "dataset = load_dataset('csv', data_files={'inference': example_url})\n",
    "\n",
    "## Option 2: Using Local CSV File\n",
    "dataset = load_dataset('csv', data_files={'inference': \"example_folder/example_df.csv\"})\n",
    "\n",
    "\n",
    "# 2. Preprocessing\n",
    "## Load tokenizer in uncased settings with scivocab\n",
    "from transformers import AutoTokenizer\n",
    "tokenizer = AutoTokenizer.from_pretrained('allenai/scibert_scivocab_uncased')\n",
    "\n",
    "## preprocess function\n",
    "## Make sure your text column is named 'text'. Otherwise replace 'text' with the name of your text column.\n",
    "def preprocess_function(examples):\n",
    "    return tokenizer(examples[\"text\"],\n",
    "                     truncation=True,\n",
    "                     max_length=512,\n",
    "                     padding='max_length'\n",
    "                     )\n",
    "\n",
    "## map preprocess_function to tokenized_data\n",
    "tokenized_data = dataset.map(preprocess_function, batched=True)\n",
    "\n",
    "# 3. Load Model\n",
    "from transformers import Trainer, AutoModelForSequenceClassification\n",
    "PubBiasDetect = AutoModelForSequenceClassification.from_pretrained(\"ClinicalMetaScience/NegativeResultDetector\")\n",
    "\n",
    "## Initialize the trainer with the model and tokenizer\n",
    "trainer = Trainer(\n",
    "    model=PubBiasDetect,\n",
    "    tokenizer=tokenizer,\n",
    "  )\n",
    "\n",
    "# 4. Prediction\n",
    "## Apply PubBiasDetect for inference\n",
    "predict_test=trainer.predict(tokenized_data[\"inference\"])\n",
    "\n",
    "## Get the predicted class\n",
    "import numpy as np\n",
    "predict_test_classes=np.argmax(predict_test.predictions, axis=1)\n",
    "\n",
    "# 5. Interpretation\n",
    "## Print the predicted class\n",
    "print(predict_test_classes)\n",
    "\n",
    "## 1: Positive Results Only --> All results in the abstract are positive\n",
    "## 0: Mixed and Negative Results --> At least one negative result in the abstract"
   ]
  }
 ],
 "metadata": {
  "kernelspec": {
   "display_name": "Python 3",
   "language": "python",
   "name": "python3"
  },
  "language_info": {
   "codemirror_mode": {
    "name": "ipython",
    "version": 3
   },
   "file_extension": ".py",
   "mimetype": "text/x-python",
   "name": "python",
   "nbconvert_exporter": "python",
   "pygments_lexer": "ipython3",
   "version": "3.11.3"
  },
  "orig_nbformat": 4
 },
 "nbformat": 4,
 "nbformat_minor": 2
}
