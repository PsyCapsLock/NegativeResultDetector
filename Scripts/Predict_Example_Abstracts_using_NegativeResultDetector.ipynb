{
 "cells": [
  {
   "cell_type": "code",
   "execution_count": 1,
   "metadata": {},
   "outputs": [
    {
     "name": "stdout",
     "output_type": "stream",
     "text": [
      "Downloading and preparing dataset csv/default to C:/Users/louis/.cache/huggingface/datasets/csv/default-d78b0cce31f182b7/0.0.0/eea64c71ca8b46dd3f537ed218fc9bf495d5707789152eb2764f5c78fa66d59d...\n"
     ]
    },
    {
     "data": {
      "application/vnd.jupyter.widget-view+json": {
       "model_id": "dc08c95d1bb34ba28fb49fecfaa7bb3d",
       "version_major": 2,
       "version_minor": 0
      },
      "text/plain": [
       "Downloading data files:   0%|          | 0/1 [00:00<?, ?it/s]"
      ]
     },
     "metadata": {},
     "output_type": "display_data"
    },
    {
     "data": {
      "application/vnd.jupyter.widget-view+json": {
       "model_id": "ad4db6eaad2249b28f9644de69e5c5ce",
       "version_major": 2,
       "version_minor": 0
      },
      "text/plain": [
       "Downloading data:   0%|          | 0.00/1.27k [00:00<?, ?B/s]"
      ]
     },
     "metadata": {},
     "output_type": "display_data"
    },
    {
     "data": {
      "application/vnd.jupyter.widget-view+json": {
       "model_id": "c93f2f3c14684883ae0e24a4548d1782",
       "version_major": 2,
       "version_minor": 0
      },
      "text/plain": [
       "Extracting data files:   0%|          | 0/1 [00:00<?, ?it/s]"
      ]
     },
     "metadata": {},
     "output_type": "display_data"
    },
    {
     "data": {
      "application/vnd.jupyter.widget-view+json": {
       "model_id": "239fa361a5fa42c08f866cf95caf80c1",
       "version_major": 2,
       "version_minor": 0
      },
      "text/plain": [
       "Generating inference split: 0 examples [00:00, ? examples/s]"
      ]
     },
     "metadata": {},
     "output_type": "display_data"
    },
    {
     "name": "stdout",
     "output_type": "stream",
     "text": [
      "Dataset csv downloaded and prepared to C:/Users/louis/.cache/huggingface/datasets/csv/default-d78b0cce31f182b7/0.0.0/eea64c71ca8b46dd3f537ed218fc9bf495d5707789152eb2764f5c78fa66d59d. Subsequent calls will reuse this data.\n"
     ]
    },
    {
     "data": {
      "application/vnd.jupyter.widget-view+json": {
       "model_id": "7a11c54561c74681b57bf88a2b018bcf",
       "version_major": 2,
       "version_minor": 0
      },
      "text/plain": [
       "  0%|          | 0/1 [00:00<?, ?it/s]"
      ]
     },
     "metadata": {},
     "output_type": "display_data"
    },
    {
     "name": "stdout",
     "output_type": "stream",
     "text": [
      "Downloading and preparing dataset csv/default to C:/Users/louis/.cache/huggingface/datasets/csv/default-722878ee200f3888/0.0.0/eea64c71ca8b46dd3f537ed218fc9bf495d5707789152eb2764f5c78fa66d59d...\n"
     ]
    },
    {
     "data": {
      "application/vnd.jupyter.widget-view+json": {
       "model_id": "e25acfd5bc3a46eaac9cc0dc3bbba570",
       "version_major": 2,
       "version_minor": 0
      },
      "text/plain": [
       "Downloading data files:   0%|          | 0/1 [00:00<?, ?it/s]"
      ]
     },
     "metadata": {},
     "output_type": "display_data"
    },
    {
     "data": {
      "application/vnd.jupyter.widget-view+json": {
       "model_id": "2bedc8a46cba40e0a75893f06cf51a90",
       "version_major": 2,
       "version_minor": 0
      },
      "text/plain": [
       "Extracting data files:   0%|          | 0/1 [00:00<?, ?it/s]"
      ]
     },
     "metadata": {},
     "output_type": "display_data"
    },
    {
     "data": {
      "application/vnd.jupyter.widget-view+json": {
       "model_id": "7a7703fa454b479eb5b3de2f2b31a4b5",
       "version_major": 2,
       "version_minor": 0
      },
      "text/plain": [
       "Generating inference split: 0 examples [00:00, ? examples/s]"
      ]
     },
     "metadata": {},
     "output_type": "display_data"
    },
    {
     "name": "stdout",
     "output_type": "stream",
     "text": [
      "Dataset csv downloaded and prepared to C:/Users/louis/.cache/huggingface/datasets/csv/default-722878ee200f3888/0.0.0/eea64c71ca8b46dd3f537ed218fc9bf495d5707789152eb2764f5c78fa66d59d. Subsequent calls will reuse this data.\n"
     ]
    },
    {
     "data": {
      "application/vnd.jupyter.widget-view+json": {
       "model_id": "225de71682cc4318973a46e7eebe4632",
       "version_major": 2,
       "version_minor": 0
      },
      "text/plain": [
       "  0%|          | 0/1 [00:00<?, ?it/s]"
      ]
     },
     "metadata": {},
     "output_type": "display_data"
    },
    {
     "data": {
      "application/vnd.jupyter.widget-view+json": {
       "model_id": "b0ddbb9a2202461abadab2180785edc6",
       "version_major": 2,
       "version_minor": 0
      },
      "text/plain": [
       "Map:   0%|          | 0/3 [00:00<?, ? examples/s]"
      ]
     },
     "metadata": {},
     "output_type": "display_data"
    },
    {
     "data": {
      "application/vnd.jupyter.widget-view+json": {
       "model_id": "c0fff84ba3814ad6a294d5a2297e256e",
       "version_major": 2,
       "version_minor": 0
      },
      "text/plain": [
       "Downloading (…)lve/main/config.json:   0%|          | 0.00/827 [00:00<?, ?B/s]"
      ]
     },
     "metadata": {},
     "output_type": "display_data"
    },
    {
     "name": "stderr",
     "output_type": "stream",
     "text": [
      "c:\\Users\\louis\\AppData\\Local\\R-MINI~1\\envs\\ma_psych\\Lib\\site-packages\\huggingface_hub\\file_download.py:133: UserWarning: `huggingface_hub` cache-system uses symlinks by default to efficiently store duplicated files but your machine does not support them in C:\\Users\\louis\\.cache\\huggingface\\hub. Caching files will still work but in a degraded version that might require more space on your disk. This warning can be disabled by setting the `HF_HUB_DISABLE_SYMLINKS_WARNING` environment variable. For more details, see https://huggingface.co/docs/huggingface_hub/how-to-cache#limitations.\n",
      "To support symlinks on Windows, you either need to activate Developer Mode or to run Python as an administrator. In order to see activate developer mode, see this article: https://docs.microsoft.com/en-us/windows/apps/get-started/enable-your-device-for-development\n",
      "  warnings.warn(message)\n"
     ]
    },
    {
     "data": {
      "application/vnd.jupyter.widget-view+json": {
       "model_id": "a76dbd47cb664e6fb34dae7d3e93edbe",
       "version_major": 2,
       "version_minor": 0
      },
      "text/plain": [
       "Downloading pytorch_model.bin:   0%|          | 0.00/440M [00:00<?, ?B/s]"
      ]
     },
     "metadata": {},
     "output_type": "display_data"
    },
    {
     "name": "stderr",
     "output_type": "stream",
     "text": [
      "You're using a BertTokenizerFast tokenizer. Please note that with a fast tokenizer, using the `__call__` method is faster than using a method to encode the text followed by a call to the `pad` method to get a padded encoding.\n"
     ]
    },
    {
     "data": {
      "application/vnd.jupyter.widget-view+json": {
       "model_id": "e62e05125b274d82a5902eeae4038ac8",
       "version_major": 2,
       "version_minor": 0
      },
      "text/plain": [
       "  0%|          | 0/1 [00:00<?, ?it/s]"
      ]
     },
     "metadata": {},
     "output_type": "display_data"
    },
    {
     "name": "stdout",
     "output_type": "stream",
     "text": [
      "[1 0 1]\n"
     ]
    }
   ],
   "source": [
    "# NegativeResultDetector\n",
    "\n",
    "## SciBERT text classification model for positive and negative results prediction in scientific abstracts\n",
    "## of clinical psychology and psychotherapy.\n",
    "\n",
    "# 1. Load Data\n",
    "## You can load your own data or utilize our example datasets. \n",
    "## Your data should be a single column 'csv' file with a column containing scientific abstracts.\n",
    "## Make sure your text column is named 'text', otherwise replace 'text' within the preprocess function \n",
    "## with the name of your text column.  \n",
    "\n",
    "## We present two options for loading your data:\n",
    "from datasets import load_dataset\n",
    "\n",
    "## Option 1: Using Github CSV File\n",
    "## Insert Github 'raw' url for inference dataset \n",
    "example_url =    'https://github.com/PsyCapsLock/NegativeResultDetector/blob/main/Data/Example_Data/example_df.csv?raw=true'\n",
    "dataset = load_dataset('csv', data_files={'inference': example_url})\n",
    "\n",
    "## Option 2: Using Local CSV File\n",
    "dataset = load_dataset('csv', data_files={'inference': \"example_folder/example_df.csv\"})\n",
    "\n",
    "\n",
    "# 2. Preprocessing\n",
    "## Load tokenizer in uncased settings with scivocab\n",
    "from transformers import AutoTokenizer\n",
    "tokenizer = AutoTokenizer.from_pretrained('allenai/scibert_scivocab_uncased')\n",
    "\n",
    "## preprocess function\n",
    "## Make sure your text column is named 'text'. Otherwise replace 'text' with the name of your text column.\n",
    "def preprocess_function(examples):\n",
    "    return tokenizer(examples[\"text\"],\n",
    "                     truncation=True,\n",
    "                     max_length=512,\n",
    "                     padding='max_length'\n",
    "                     )\n",
    "\n",
    "## map preprocess_function to tokenized_data\n",
    "tokenized_data = dataset.map(preprocess_function, batched=True)\n",
    "\n",
    "# 3. Load Model\n",
    "from transformers import Trainer, AutoModelForSequenceClassification\n",
    "NegativeResultDetector = AutoModelForSequenceClassification.from_pretrained(\"ClinicalMetaScience/NegativeResultDetector\")\n",
    "\n",
    "## Initialize the trainer with the model and tokenizer\n",
    "trainer = Trainer(\n",
    "    model=NegativeResultDetector,\n",
    "    tokenizer=tokenizer,\n",
    "  )\n",
    "\n",
    "# 4. Prediction\n",
    "## Apply PubBiasDetect for inference\n",
    "predict_test=trainer.predict(tokenized_data[\"inference\"])\n",
    "\n",
    "## Get the predicted class\n",
    "import numpy as np\n",
    "predict_test_classes=np.argmax(predict_test.predictions, axis=1)\n",
    "\n",
    "# 5. Interpretation\n",
    "## Print the predicted class\n",
    "print(predict_test_classes)\n",
    "\n",
    "## 1: Positive Results Only --> All results in the abstract are positive\n",
    "## 0: Mixed and Negative Results --> At least one negative result in the abstract"
   ]
  }
 ],
 "metadata": {
  "kernelspec": {
   "display_name": "Python 3",
   "language": "python",
   "name": "python3"
  },
  "language_info": {
   "codemirror_mode": {
    "name": "ipython",
    "version": 3
   },
   "file_extension": ".py",
   "mimetype": "text/x-python",
   "name": "python",
   "nbconvert_exporter": "python",
   "pygments_lexer": "ipython3",
   "version": "3.11.3"
  },
  "orig_nbformat": 4
 },
 "nbformat": 4,
 "nbformat_minor": 2
}
