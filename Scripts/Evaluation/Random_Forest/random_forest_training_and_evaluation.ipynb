{
 "cells": [
  {
   "cell_type": "markdown",
   "metadata": {},
   "source": [
    "# Import Standard Libraries & Custom Functions"
   ]
  },
  {
   "cell_type": "code",
   "execution_count": 3,
   "metadata": {},
   "outputs": [],
   "source": [
    "# Libraries\n",
    "import os\n",
    "import numpy as np\n",
    "import pandas as pd\n",
    "import matplotlib.pyplot as plt   "
   ]
  },
  {
   "cell_type": "markdown",
   "metadata": {},
   "source": [
    "# Load data"
   ]
  },
  {
   "cell_type": "code",
   "execution_count": 4,
   "metadata": {},
   "outputs": [],
   "source": [
    "## url\n",
    "url_train = 'https://github.com/PsyCapsLock/PubBiasDetect/blob/main/Data/Train_Test_Dev/train_2023-07-26.csv?raw=true'\n",
    "url_dev = 'https://github.com/PsyCapsLock/PubBiasDetect/blob/main/Data/Train_Test_Dev/dev_2023-07-26.csv?raw=true'\n",
    "url_test = 'https://github.com/PsyCapsLock/PubBiasDetect/blob/main/Data/Train_Test_Dev/test_2023-07-26.csv?raw=true'\n",
    "url_val1 = 'https://github.com/PsyCapsLock/PubBiasDetect/blob/main/Data/Validation/validation_1_nongerman_2023-07-28.csv?raw=true'\n",
    "url_val2 = 'https://github.com/PsyCapsLock/PubBiasDetect/blob/main/Data/Validation/validation_2_1990-2012_2023-07-28.csv?raw=true'\n",
    "\n",
    "\n",
    "## Load data\n",
    "df_train=pd.concat([pd.read_csv(url_train), pd.read_csv(url_dev)])\n",
    "df_test = pd.read_csv(url_test)\n",
    "\n",
    "df_val1=pd.read_csv(url_val1)\n",
    "df_val2=pd.read_csv(url_val2)\n"
   ]
  },
  {
   "cell_type": "code",
   "execution_count": null,
   "metadata": {},
   "outputs": [],
   "source": [
    "from nltk.corpus import wordnet\n",
    "from nltk import pos_tag\n",
    "import re\n",
    "from nltk.tokenize import word_tokenize\n",
    "from nltk.stem import WordNetLemmatizer\n",
    "\n",
    "import nltk\n",
    "nltk.download('averaged_perceptron_tagger')\n",
    "nltk.download('wordnet')\n",
    "\n",
    "def get_wordnet_pos(treebank_tag):\n",
    "    \"\"\"Map Treebank pos tags to WordNet pos tags\"\"\"\n",
    "    if treebank_tag.startswith('J'):\n",
    "        return wordnet.ADJ\n",
    "    elif treebank_tag.startswith('V'):\n",
    "        return wordnet.VERB\n",
    "    elif treebank_tag.startswith('N'):\n",
    "        return wordnet.NOUN\n",
    "    elif treebank_tag.startswith('R'):\n",
    "        return wordnet.ADV\n",
    "    else:\n",
    "        # Default to noun if the pos tag doesn't start with J, V, N, or R\n",
    "        return wordnet.NOUN\n",
    "\n",
    "\n",
    "def preprocess(X):\n",
    "    documents = []\n",
    "    lemmatizer = WordNetLemmatizer()\n",
    "\n",
    "    for sen in range(0, len(X)):\n",
    "        # Remove all the special characters\n",
    "        document = re.sub(r'\\W', ' ', str(X.iloc[sen]))\n",
    "\n",
    "        # Remove single characters from the start\n",
    "        document = re.sub(r'\\^[a-zA-Z]\\s+', ' ', document) \n",
    "\n",
    "        # Substituting multiple spaces with single space\n",
    "        document = re.sub(r'\\s+', ' ', document, flags=re.I)\n",
    "\n",
    "        # Removing prefixed 'b'\n",
    "        document = re.sub(r'^b\\s+', '', document)\n",
    "\n",
    "        # Converting to Lowercase\n",
    "        document = document.lower()\n",
    "\n",
    "        # Lemmatization\n",
    "        # Tokenization and POS tagging\n",
    "        tokens = word_tokenize(document)\n",
    "        tagged_tokens = pos_tag(tokens)\n",
    "        document = ' '.join([lemmatizer.lemmatize(word, get_wordnet_pos(pos)) for word, pos in tagged_tokens])\n",
    "\n",
    "        documents.append(document)\n",
    "        \n",
    "    return documents\n",
    "\n",
    "\n",
    "# Stopwords\n",
    "import nltk\n",
    "nltk.download('stopwords')\n",
    "nltk.download('wordnet')\n",
    "from nltk.corpus import stopwords\n",
    "no_stop = [\"no\", \"not\", \"nor\"]\n",
    "stopwords_start = stopwords.words('english')\n",
    "stopwords_adjusted = [item for item in stopwords_start if item not in no_stop]\n",
    "\n",
    "\n",
    "# paste and list\n",
    "def paste_and_list(path_x, pattern_x):\n",
    "    files = [f for f in os.listdir(path_x) if os.path.isfile(os.path.join(path_x, f)) and pattern_x in f]\n",
    "    pasted_path = [os.path.join(path_x, f) for f in files]\n",
    "    pasted_path = re.sub(r\"\\\\\", \"/\", pasted_path[0])\n",
    "    return pasted_path"
   ]
  },
  {
   "cell_type": "markdown",
   "metadata": {},
   "source": [
    "### Preprocess"
   ]
  },
  {
   "cell_type": "code",
   "execution_count": 6,
   "metadata": {},
   "outputs": [
    {
     "data": {
      "text/html": [
       "<div>\n",
       "<style scoped>\n",
       "    .dataframe tbody tr th:only-of-type {\n",
       "        vertical-align: middle;\n",
       "    }\n",
       "\n",
       "    .dataframe tbody tr th {\n",
       "        vertical-align: top;\n",
       "    }\n",
       "\n",
       "    .dataframe thead th {\n",
       "        text-align: right;\n",
       "    }\n",
       "</style>\n",
       "<table border=\"1\" class=\"dataframe\">\n",
       "  <thead>\n",
       "    <tr style=\"text-align: right;\">\n",
       "      <th></th>\n",
       "      <th>text</th>\n",
       "      <th>label</th>\n",
       "    </tr>\n",
       "  </thead>\n",
       "  <tbody>\n",
       "    <tr>\n",
       "      <th>0</th>\n",
       "      <td>background to date cultural clinical research ...</td>\n",
       "      <td>1.0</td>\n",
       "    </tr>\n",
       "    <tr>\n",
       "      <th>1</th>\n",
       "      <td>anticipate population age to reach a historica...</td>\n",
       "      <td>1.0</td>\n",
       "    </tr>\n",
       "    <tr>\n",
       "      <th>2</th>\n",
       "      <td>objective deficit in explicit learning and mem...</td>\n",
       "      <td>0.0</td>\n",
       "    </tr>\n",
       "    <tr>\n",
       "      <th>3</th>\n",
       "      <td>abstract background previous laboratory findin...</td>\n",
       "      <td>0.0</td>\n",
       "    </tr>\n",
       "    <tr>\n",
       "      <th>4</th>\n",
       "      <td>suppress unwanted memory can impair their late...</td>\n",
       "      <td>1.0</td>\n",
       "    </tr>\n",
       "  </tbody>\n",
       "</table>\n",
       "</div>"
      ],
      "text/plain": [
       "                                                text  label\n",
       "0  background to date cultural clinical research ...    1.0\n",
       "1  anticipate population age to reach a historica...    1.0\n",
       "2  objective deficit in explicit learning and mem...    0.0\n",
       "3  abstract background previous laboratory findin...    0.0\n",
       "4  suppress unwanted memory can impair their late...    1.0"
      ]
     },
     "execution_count": 6,
     "metadata": {},
     "output_type": "execute_result"
    }
   ],
   "source": [
    "## Preprocess\n",
    "df_train[\"text\"]=preprocess(df_train[\"text\"])\n",
    "df_test[\"text\"]=preprocess(df_test[\"text\"])\n",
    "\n",
    "## show data\n",
    "df_train.head(5)\n",
    "df_test.head(5)"
   ]
  },
  {
   "attachments": {},
   "cell_type": "markdown",
   "metadata": {},
   "source": [
    "### Create Train and Test Vectors"
   ]
  },
  {
   "cell_type": "code",
   "execution_count": 7,
   "metadata": {},
   "outputs": [],
   "source": [
    "X_train = df_train[\"text\"]\n",
    "y_train = df_train[\"label\"]\n",
    "X_test = df_test[\"text\"] \n",
    "y_test = df_test[\"label\"]"
   ]
  },
  {
   "attachments": {},
   "cell_type": "markdown",
   "metadata": {},
   "source": [
    "# Pipeline"
   ]
  },
  {
   "cell_type": "code",
   "execution_count": 8,
   "metadata": {},
   "outputs": [],
   "source": [
    "from sklearn.pipeline import Pipeline\n",
    "from sklearn.feature_extraction.text import CountVectorizer\n",
    "from sklearn.ensemble import RandomForestClassifier\n",
    "\n",
    "text_clf = Pipeline([\n",
    "    ('vect', CountVectorizer()),\n",
    "    ('clf', RandomForestClassifier(random_state = 42)),\n",
    " ])"
   ]
  },
  {
   "cell_type": "markdown",
   "metadata": {},
   "source": [
    "### Hyperparameter tuning\n"
   ]
  },
  {
   "cell_type": "code",
   "execution_count": 9,
   "metadata": {},
   "outputs": [
    {
     "name": "stdout",
     "output_type": "stream",
     "text": [
      "{'vect__max_features': [500, 1500, 2000], 'vect__stop_words': [None, ['i', 'me', 'my', 'myself', 'we', 'our', 'ours', 'ourselves', 'you', \"you're\", \"you've\", \"you'll\", \"you'd\", 'your', 'yours', 'yourself', 'yourselves', 'he', 'him', 'his', 'himself', 'she', \"she's\", 'her', 'hers', 'herself', 'it', \"it's\", 'its', 'itself', 'they', 'them', 'their', 'theirs', 'themselves', 'what', 'which', 'who', 'whom', 'this', 'that', \"that'll\", 'these', 'those', 'am', 'is', 'are', 'was', 'were', 'be', 'been', 'being', 'have', 'has', 'had', 'having', 'do', 'does', 'did', 'doing', 'a', 'an', 'the', 'and', 'but', 'if', 'or', 'because', 'as', 'until', 'while', 'of', 'at', 'by', 'for', 'with', 'about', 'against', 'between', 'into', 'through', 'during', 'before', 'after', 'above', 'below', 'to', 'from', 'up', 'down', 'in', 'out', 'on', 'off', 'over', 'under', 'again', 'further', 'then', 'once', 'here', 'there', 'when', 'where', 'why', 'how', 'all', 'any', 'both', 'each', 'few', 'more', 'most', 'other', 'some', 'such', 'only', 'own', 'same', 'so', 'than', 'too', 'very', 's', 't', 'can', 'will', 'just', 'don', \"don't\", 'should', \"should've\", 'now', 'd', 'll', 'm', 'o', 're', 've', 'y', 'ain', 'aren', \"aren't\", 'couldn', \"couldn't\", 'didn', \"didn't\", 'doesn', \"doesn't\", 'hadn', \"hadn't\", 'hasn', \"hasn't\", 'haven', \"haven't\", 'isn', \"isn't\", 'ma', 'mightn', \"mightn't\", 'mustn', \"mustn't\", 'needn', \"needn't\", 'shan', \"shan't\", 'shouldn', \"shouldn't\", 'wasn', \"wasn't\", 'weren', \"weren't\", 'won', \"won't\", 'wouldn', \"wouldn't\"]], 'vect__ngram_range': [(1, 2), (1, 3)], 'clf__n_estimators': [1000, 2000, 3000], 'clf__max_features': ['auto', 'sqrt'], 'clf__max_depth': [3, 10, 17, 24, 32, None], 'clf__min_samples_split': [2, 5], 'clf__min_samples_leaf': [1, 2, 4], 'clf__bootstrap': [True, False]}\n"
     ]
    }
   ],
   "source": [
    "# Number of trees in random forest\n",
    "n_estimators = [int(x) for x in np.linspace(start = 1000, stop = 3000, num = 3)]\n",
    "\n",
    "# Maximum number of levels in tree\n",
    "max_depth = [int(x) for x in np.linspace(3, 32, num = 5)]\n",
    "max_depth.append(None)\n",
    "\n",
    "# Create the random grid\n",
    "random_grid = {'vect__max_features':        [500,1500, 2000],           #   3 Values\n",
    "               'vect__stop_words':          [None,stopwords_adjusted],  #   2 Values\n",
    "               'vect__ngram_range':         [(1,2),(1,3)],              #   2 Values\n",
    "               'clf__n_estimators':         n_estimators,               #   3 Values\n",
    "               'clf__max_features':         ['auto', 'sqrt'],           #   2 Values\n",
    "               'clf__max_depth':            max_depth,                  #   6 Values\n",
    "               'clf__min_samples_split':    [2, 5],                     #   2 Values\n",
    "               'clf__min_samples_leaf':     [1, 2, 4],                  #   3 Values\n",
    "               'clf__bootstrap':            [True, False]}              #   2 Values\n",
    "print(random_grid)"
   ]
  },
  {
   "cell_type": "code",
   "execution_count": 10,
   "metadata": {},
   "outputs": [],
   "source": [
    "import os\n",
    "from sklearn.model_selection import RandomizedSearchCV\n",
    "from datetime import date\n",
    "import pickle\n",
    "\n",
    "# Specify the filename\n",
    "pkl_filename = f\"Hyperparameters/best_rf_2023-07-27.pkl\"\n",
    "\n",
    "# Check if a hyperparameter file exists in the hyperparameter folder\n",
    "if not os.path.exists(paste_and_list('Hyperparameters', 'best_rf_')):\n",
    "    # If the file doesn't exist, fit the model and save it to a file\n",
    "    rf_random = RandomizedSearchCV(estimator = text_clf,\n",
    "                                   param_distributions = random_grid,\n",
    "                                   n_iter = 100,\n",
    "                                   cv = 5,\n",
    "                                   verbose=10,\n",
    "                                   random_state=42,\n",
    "                                   n_jobs = -1)\n",
    "    rf_random.fit(X_train, y_train)\n",
    "\n",
    "    # Get the best estimator from RandomizedSearchCV\n",
    "    best_model = rf_random.best_estimator_\n",
    "\n",
    "    # Save to file in the current working directory\n",
    "    with open(pkl_filename, 'wb') as file:\n",
    "        pickle.dump(best_model, file)\n",
    "else:\n",
    "    # If the file exists, load the model from the file\n",
    "    with open(pkl_filename, 'rb') as file:\n",
    "        best_model = pickle.load(file)"
   ]
  },
  {
   "cell_type": "code",
   "execution_count": 11,
   "metadata": {},
   "outputs": [
    {
     "name": "stdout",
     "output_type": "stream",
     "text": [
      "Pipeline(steps=[('vect',\n",
      "                 CountVectorizer(max_features=2000, ngram_range=(1, 2))),\n",
      "                ('clf',\n",
      "                 RandomForestClassifier(max_depth=32, max_features='auto',\n",
      "                                        min_samples_leaf=2, n_estimators=1000,\n",
      "                                        random_state=42))])\n"
     ]
    }
   ],
   "source": [
    "print(best_model)"
   ]
  },
  {
   "cell_type": "markdown",
   "metadata": {},
   "source": [
    "# Results"
   ]
  },
  {
   "cell_type": "markdown",
   "metadata": {},
   "source": [
    "### Confusion Matrix & Classification Report"
   ]
  },
  {
   "cell_type": "code",
   "execution_count": 12,
   "metadata": {},
   "outputs": [
    {
     "data": {
      "image/png": "[encoded data removed]",
      "text/plain": [
       "<Figure size 640x480 with 2 Axes>"
      ]
     },
     "metadata": {},
     "output_type": "display_data"
    },
    {
     "name": "stdout",
     "output_type": "stream",
     "text": [
      "              precision    recall  f1-score   support\n",
      "\n",
      "         0.0      0.769     0.856     0.810        97\n",
      "         1.0      0.844     0.752     0.796       101\n",
      "\n",
      "    accuracy                          0.803       198\n",
      "   macro avg      0.806     0.804     0.803       198\n",
      "weighted avg      0.807     0.803     0.803       198\n",
      "\n",
      "0.803030303030303\n"
     ]
    }
   ],
   "source": [
    "from sklearn.metrics import accuracy_score, classification_report, confusion_matrix, ConfusionMatrixDisplay\n",
    "\n",
    "# Make predictions on the test set\n",
    "y_pred = best_model.predict(X_test)\n",
    "\n",
    "cm = confusion_matrix(y_test, y_pred)\n",
    "disp = ConfusionMatrixDisplay(confusion_matrix=cm)\n",
    "disp.plot()\n",
    "plt.show()\n",
    "\n",
    "\n",
    "# classifcation report & accuracy\n",
    "print(classification_report(y_test,y_pred,digits=3))\n",
    "print(accuracy_score(y_test, y_pred))"
   ]
  },
  {
   "cell_type": "code",
   "execution_count": 13,
   "metadata": {},
   "outputs": [],
   "source": [
    "df_val1[\"text\"]=preprocess(df_val1[\"text\"])\n",
    "df_val2[\"text\"]=preprocess(df_val2[\"text\"])\n",
    "\n",
    "X_val1 = df_val1[\"text\"]\n",
    "y_val1 = df_val1[\"label\"]\n",
    "X_val2 = df_val2[\"text\"]\n",
    "y_val2 = df_val2[\"label\"]"
   ]
  },
  {
   "cell_type": "code",
   "execution_count": 14,
   "metadata": {},
   "outputs": [
    {
     "data": {
      "image/png": "[encoded data removed]",
      "text/plain": [
       "<Figure size 640x480 with 2 Axes>"
      ]
     },
     "metadata": {},
     "output_type": "display_data"
    },
    {
     "name": "stdout",
     "output_type": "stream",
     "text": [
      "              precision    recall  f1-score   support\n",
      "\n",
      "           0      0.747     0.883     0.810        77\n",
      "           1      0.847     0.685     0.758        73\n",
      "\n",
      "    accuracy                          0.787       150\n",
      "   macro avg      0.797     0.784     0.784       150\n",
      "weighted avg      0.796     0.787     0.784       150\n",
      "\n",
      "0.7866666666666666\n"
     ]
    }
   ],
   "source": [
    "# Make predictions on the validation set 1\n",
    "\n",
    "# validation 1\n",
    "y_pred_val1 = best_model.predict(X_val1)\n",
    "\n",
    "cm = confusion_matrix(y_val1, y_pred_val1)\n",
    "disp = ConfusionMatrixDisplay(confusion_matrix=cm)\n",
    "disp.plot()\n",
    "plt.show()\n",
    "\n",
    "\n",
    "# classifcation report & accuracy\n",
    "print(classification_report(y_val1,y_pred_val1,digits=3))\n",
    "print(accuracy_score(y_val1, y_pred_val1))"
   ]
  },
  {
   "cell_type": "code",
   "execution_count": 15,
   "metadata": {},
   "outputs": [
    {
     "data": {
      "image/png": "[encoded data removed]",
      "text/plain": [
       "<Figure size 640x480 with 2 Axes>"
      ]
     },
     "metadata": {},
     "output_type": "display_data"
    },
    {
     "name": "stdout",
     "output_type": "stream",
     "text": [
      "              precision    recall  f1-score   support\n",
      "\n",
      "           0      0.770     0.918     0.838        73\n",
      "           1      0.905     0.740     0.814        77\n",
      "\n",
      "    accuracy                          0.827       150\n",
      "   macro avg      0.837     0.829     0.826       150\n",
      "weighted avg      0.839     0.827     0.826       150\n",
      "\n",
      "0.8266666666666667\n"
     ]
    }
   ],
   "source": [
    "# Make predictions on the validation set 2\n",
    "\n",
    "# validation 2\n",
    "y_pred_val2 = best_model.predict(X_val2)\n",
    "\n",
    "cm = confusion_matrix(y_val2, y_pred_val2)\n",
    "disp = ConfusionMatrixDisplay(confusion_matrix=cm)\n",
    "disp.plot()\n",
    "plt.show()\n",
    "\n",
    "\n",
    "# classifcation report & accuracy\n",
    "print(classification_report(y_val2,y_pred_val2,digits=3))\n",
    "print(accuracy_score(y_val2, y_pred_val2))"
   ]
  },
  {
   "cell_type": "markdown",
   "metadata": {},
   "source": [
    "### Plot Feature Importance"
   ]
  },
  {
   "cell_type": "code",
   "execution_count": 16,
   "metadata": {},
   "outputs": [
    {
     "name": "stdout",
     "output_type": "stream",
     "text": [
      "                importance\n",
      "do not            0.032744\n",
      "do                0.026724\n",
      "no                0.026335\n",
      "but not           0.019687\n",
      "be not            0.018081\n",
      "but               0.017203\n",
      "not differ        0.009031\n",
      "no significant    0.007464\n",
      "be no             0.005617\n",
      "no difference     0.005063\n",
      "however           0.004969\n",
      "nor               0.004958\n",
      "be                0.004717\n",
      "difference        0.004647\n",
      "the               0.004533\n",
      "of                0.004413\n",
      "differ            0.004413\n",
      "and               0.004300\n",
      "in                0.004001\n"
     ]
    },
    {
     "data": {
      "image/png": "[encoded data removed]",
      "text/plain": [
       "<Figure size 1000x600 with 1 Axes>"
      ]
     },
     "metadata": {},
     "output_type": "display_data"
    }
   ],
   "source": [
    "feat_names=best_model[:-1].get_feature_names_out()\n",
    "importances = pd.DataFrame(data=best_model.steps[1][1].feature_importances_, index=feat_names)\n",
    "importances=importances.rename(columns={0: \"importance\"})\n",
    "\n",
    "# Sort the feature importances in descending order\n",
    "importances = importances.sort_values(by=\"importance\", ascending=False)\n",
    "\n",
    "# Print the feature importances\n",
    "print(importances.iloc[1:20,:])\n",
    "\n",
    "importances20=importances.iloc[1:20,:]\n",
    "\n",
    "# Plot the feature importances\n",
    "plt.figure(figsize=(10, 6))\n",
    "plt.bar(importances20.index, importances20['importance'])\n",
    "plt.xticks(rotation=90)\n",
    "plt.xlabel('Features')\n",
    "plt.ylabel('Importance')\n",
    "plt.tight_layout()\n",
    "plt.show()"
   ]
  }
 ],
 "metadata": {
  "kernelspec": {
   "display_name": "Python 3",
   "language": "python",
   "name": "python3"
  },
  "language_info": {
   "codemirror_mode": {
    "name": "ipython",
    "version": 3
   },
   "file_extension": ".py",
   "mimetype": "text/x-python",
   "name": "python",
   "nbconvert_exporter": "python",
   "pygments_lexer": "ipython3",
   "version": "3.11.3"
  },
  "orig_nbformat": 4
 },
 "nbformat": 4,
 "nbformat_minor": 2
}
